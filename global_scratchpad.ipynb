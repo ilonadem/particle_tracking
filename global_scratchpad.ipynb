{
 "cells": [
  {
   "cell_type": "code",
   "execution_count": 13,
   "metadata": {},
   "outputs": [],
   "source": [
    "import os\n",
    "import torch\n",
    "import numpy as np\n",
    "import matplotlib.pyplot as plt"
   ]
  },
  {
   "cell_type": "code",
   "execution_count": 14,
   "metadata": {},
   "outputs": [],
   "source": [
    "data_dir = 'data/datasets/dec_16_gens/test'\n",
    "title = 'test'\n",
    "gt_dir = os.path.join(data_dir, 'GT')\n",
    "cotracker_dir = os.path.join(data_dir, 'cotracker')\n",
    "pips_dir = os.path.join(data_dir, 'pips')"
   ]
  },
  {
   "cell_type": "code",
   "execution_count": 16,
   "metadata": {},
   "outputs": [],
   "source": [
    "# os.listdir(cotracker_dir)\n",
    "# os.listdir(pips_dir)\n",
    "\n",
    "gt_coords = np.array(torch.load(os.path.join(gt_dir, title+'_pointvert_coords.pt')))\n",
    "gt_vis = np.array(torch.load(os.path.join(gt_dir, title+'_pointvert_vis.pt')))\n",
    "\n",
    "cotracker_coords = np.array(torch.load(os.path.join(cotracker_dir, title+'_cotracker_coords.pt')).cpu())\n",
    "cotracker_vis = np.array(torch.load(os.path.join(cotracker_dir, title+'_cotracker_vis.pt')).cpu())\n",
    "\n",
    "pips_coords = np.array(torch.load(os.path.join(pips_dir, title+'_pips_coords.pt')).cpu())"
   ]
  },
  {
   "cell_type": "code",
   "execution_count": 43,
   "metadata": {},
   "outputs": [
    {
     "name": "stdout",
     "output_type": "stream",
     "text": [
      "(11, 2, 2) (11, 2) (11, 2, 2) (11, 2)\n",
      "(11,)\n"
     ]
    }
   ],
   "source": [
    "# # print(len(gt_coords), len(gt_vis), len(cotracker_coords), len(cotracker_vis))\n",
    "# print(gt_coords.shape, gt_vis.shape, cotracker_coords.shape, cotracker_vis.shape)\n",
    "# print(gt_coords[:,0,0].shape)"
   ]
  },
  {
   "cell_type": "code",
   "execution_count": 55,
   "metadata": {},
   "outputs": [
    {
     "name": "stdout",
     "output_type": "stream",
     "text": [
      "11 2\n"
     ]
    }
   ],
   "source": [
    "# num_frames = gt_coords.shape[0]\n",
    "# num_points = gt_coords.shape[1]\n"
   ]
  },
  {
   "cell_type": "code",
   "execution_count": 139,
   "metadata": {},
   "outputs": [
    {
     "name": "stdout",
     "output_type": "stream",
     "text": [
      "(22, 2)\n",
      "(11, 2)\n"
     ]
    },
    {
     "data": {
      "text/plain": [
       "(14, 2)"
      ]
     },
     "execution_count": 139,
     "metadata": {},
     "output_type": "execute_result"
    }
   ],
   "source": [
    "# print((gt_coords.reshape(gt_coords.shape[0]*gt_coords.shape[1],2)).shape)\n",
    "# print(gt_vis.shape)\n",
    "# gt_coords[gt_vis,:].shape"
   ]
  },
  {
   "cell_type": "code",
   "execution_count": 125,
   "metadata": {},
   "outputs": [
    {
     "name": "stdout",
     "output_type": "stream",
     "text": [
      "[[215 183]\n",
      " [156 163]\n",
      " [ 92 141]\n",
      " [ 60 128]\n",
      " [125 139]\n",
      " [228 162]\n",
      " [277 180]\n",
      " [282 208]]\n",
      "[[248 179]\n",
      " [190 161]\n",
      " [139 143]\n",
      " [132 140]\n",
      " [202 160]\n",
      " [277 181]]\n"
     ]
    }
   ],
   "source": [
    "# point = 0\n",
    "\n",
    "# point_gt_coords = gt_coords[:,point,:]\n",
    "# point_gt_vis = gt_vis[:,point]\n",
    "\n",
    "# print(point_gt_coords[point_gt_vis,:])\n",
    "\n",
    "# point = 1\n",
    "\n",
    "# point_gt_coords = gt_coords[:,point,:]\n",
    "# point_gt_vis = gt_vis[:,point]\n",
    "\n",
    "# print(point_gt_coords[point_gt_vis,:])"
   ]
  },
  {
   "cell_type": "code",
   "execution_count": 127,
   "metadata": {},
   "outputs": [
    {
     "name": "stdout",
     "output_type": "stream",
     "text": [
      "(11, 2, 2)\n",
      "(11, 2)\n",
      "(14, 2)\n",
      "[[215 183]\n",
      " [248 179]\n",
      " [156 163]\n",
      " [190 161]\n",
      " [ 92 141]\n",
      " [139 143]\n",
      " [ 60 128]\n",
      " [132 140]\n",
      " [125 139]\n",
      " [202 160]\n",
      " [228 162]\n",
      " [277 181]\n",
      " [277 180]\n",
      " [282 208]]\n",
      "(14, 2) (14, 2)\n"
     ]
    }
   ],
   "source": [
    "# print(gt_coords.shape)\n",
    "# print(gt_vis.shape)\n",
    "\n",
    "# print(gt_coords[gt_vis,:].shape)\n",
    "# print(gt_coords[gt_vis,:])\n",
    "\n",
    "# print(gt_coords[gt_vis,:].shape, cotracker_coords[gt_vis,:].shape)"
   ]
  },
  {
   "cell_type": "code",
   "execution_count": 142,
   "metadata": {},
   "outputs": [
    {
     "data": {
      "text/plain": [
       "array([[215, 183],\n",
       "       [248, 179],\n",
       "       [156, 163],\n",
       "       [190, 161],\n",
       "       [ 92, 141],\n",
       "       [139, 143],\n",
       "       [ 60, 128],\n",
       "       [132, 140],\n",
       "       [125, 139],\n",
       "       [202, 160],\n",
       "       [228, 162],\n",
       "       [277, 181],\n",
       "       [277, 180],\n",
       "       [282, 208]])"
      ]
     },
     "execution_count": 142,
     "metadata": {},
     "output_type": "execute_result"
    }
   ],
   "source": [
    "# gt_coords[gt_vis,:]"
   ]
  },
  {
   "cell_type": "code",
   "execution_count": 17,
   "metadata": {},
   "outputs": [],
   "source": [
    "def euclid_dist(gt_coords, cotracker_coords):\n",
    "    # euclid distance of point coord in all frames\n",
    "    squared_diff = np.sum((gt_coords - cotracker_coords) ** 2, axis=1)\n",
    "    euclidean_distances = np.sqrt(squared_diff)\n",
    "    total_distance = euclidean_distances.mean()\n",
    "\n",
    "    return total_distance\n",
    "\n",
    "def vis_accuracy(gt_visibility, predicted_visibility):\n",
    "    # Counting the number of times the predicted visibility matches the ground truth\n",
    "    correct_predictions = np.sum(gt_visibility == predicted_visibility)\n",
    "    total_predictions = gt_visibility.size\n",
    "    accuracy = (correct_predictions / total_predictions) * 100\n",
    "    \n",
    "    return accuracy\n",
    "\n"
   ]
  },
  {
   "cell_type": "code",
   "execution_count": 18,
   "metadata": {},
   "outputs": [
    {
     "name": "stdout",
     "output_type": "stream",
     "text": [
      "track id:  0\n",
      "percent of correctly predicted visibility scores: 54.54545454545454\n",
      "total summed euclid dist 43.94380549259614\n",
      "euclid dist of visible points:  37.73509619958237\n",
      "euclid dist of NOT visible points:  60.500363607299505\n",
      "track id:  1\n",
      "percent of correctly predicted visibility scores: 90.9090909090909\n",
      "total summed euclid dist 32.537348672539885\n",
      "euclid dist of visible points:  19.532394490738508\n",
      "euclid dist of NOT visible points:  48.14329369070154\n"
     ]
    }
   ],
   "source": [
    "track_id = 0\n",
    "\n",
    "track_gt_coords = gt_coords[:,track_id,:]\n",
    "track_gt_vis = gt_vis[:,track_id]\n",
    "track_cotracker_coords = cotracker_coords[:,track_id,:]\n",
    "track_cotracker_vis = cotracker_vis[:,track_id]>0.1\n",
    "\n",
    "print(\"track id: \", track_id)\n",
    "print(\"percent of correctly predicted visibility scores:\", vis_accuracy(track_gt_vis, track_cotracker_vis))\n",
    "print(\"total summed euclid dist\", euclid_dist(track_gt_coords, track_cotracker_coords))\n",
    "\n",
    "print(\"euclid dist of visible points: \", euclid_dist(track_gt_coords[track_gt_vis,:], track_cotracker_coords[track_gt_vis,:]))\n",
    "print(\"euclid dist of NOT visible points: \", euclid_dist(track_gt_coords[~track_gt_vis,:], track_cotracker_coords[~track_gt_vis,:]))\n",
    "\n",
    "track_id = 1\n",
    "\n",
    "track_gt_coords = gt_coords[:,track_id,:]\n",
    "track_gt_vis = gt_vis[:,track_id]\n",
    "track_cotracker_coords = cotracker_coords[:,track_id,:]\n",
    "track_cotracker_vis = cotracker_vis[:,track_id]>0.1\n",
    "\n",
    "print(\"track id: \", track_id)\n",
    "print(\"percent of correctly predicted visibility scores:\", vis_accuracy(track_gt_vis, track_cotracker_vis))\n",
    "print(\"total summed euclid dist\", euclid_dist(track_gt_coords, track_cotracker_coords))\n",
    "\n",
    "print(\"euclid dist of visible points: \", euclid_dist(track_gt_coords[track_gt_vis,:], track_cotracker_coords[track_gt_vis,:]))\n",
    "print(\"euclid dist of NOT visible points: \", euclid_dist(track_gt_coords[~track_gt_vis,:], track_cotracker_coords[~track_gt_vis,:]))"
   ]
  },
  {
   "cell_type": "code",
   "execution_count": 164,
   "metadata": {},
   "outputs": [
    {
     "data": {
      "image/png": "[encoded data removed]",
      "text/plain": [
       "<Figure size 640x480 with 1 Axes>"
      ]
     },
     "metadata": {},
     "output_type": "display_data"
    },
    {
     "data": {
      "image/png": "[encoded data removed]",
      "text/plain": [
       "<Figure size 640x480 with 1 Axes>"
      ]
     },
     "metadata": {},
     "output_type": "display_data"
    },
    {
     "data": {
      "image/png": "[encoded data removed]",
      "text/plain": [
       "<Figure size 640x480 with 1 Axes>"
      ]
     },
     "metadata": {},
     "output_type": "display_data"
    }
   ],
   "source": [
    "plt.scatter(np.linspace(0,11,11), gt_vis[:,0], c='b')\n",
    "plt.scatter(np.linspace(0,11,11), cotracker_vis[:,0], c='r')\n",
    "plt.show()\n",
    "\n",
    "plt.plot(gt_coords[:,0,0], 'r.')\n",
    "plt.plot(cotracker_coords[:,0,0], 'b.')\n",
    "plt.ylim(0, 512)\n",
    "plt.show()\n",
    "\n",
    "plt.plot(gt_coords[:,0,1], 'r.')\n",
    "plt.plot(cotracker_coords[:,0,1], 'b.')\n",
    "plt.ylim(0, 512)\n",
    "plt.show()"
   ]
  },
  {
   "cell_type": "code",
   "execution_count": null,
   "metadata": {},
   "outputs": [],
   "source": []
  }
 ],
 "metadata": {
  "kernelspec": {
   "display_name": "pytorch3d",
   "language": "python",
   "name": "python3"
  },
  "language_info": {
   "codemirror_mode": {
    "name": "ipython",
    "version": 3
   },
   "file_extension": ".py",
   "mimetype": "text/x-python",
   "name": "python",
   "nbconvert_exporter": "python",
   "pygments_lexer": "ipython3",
   "version": "3.9.18"
  },
  "orig_nbformat": 4
 },
 "nbformat": 4,
 "nbformat_minor": 2
}
